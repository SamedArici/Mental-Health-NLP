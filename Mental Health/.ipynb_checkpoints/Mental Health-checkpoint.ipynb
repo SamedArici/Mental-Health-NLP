{
 "cells": [
  {
   "cell_type": "markdown",
   "id": "639bdb98",
   "metadata": {},
   "source": [
    "<div class=\"alert alert-block alert-warning\">\n",
    "\n",
    "<h1>Mental Health</h1>\n",
    "    \n",
    "<a href=\"https://www.kaggle.com/datasets/reihanenamdari/mental-health-corpus\">Kaggle Link</a>\n",
    "\n",
    "    \n",
    "<h2>About Dataset</h2>\n",
    "<blockquote>The Mental Health Corpus is a collection of texts related to people with anxiety, depression, and other mental health issues. The corpus consists of two columns: one containing the comments, and the other containing labels indicating whether the comments are considered poisonous or not. The corpus can be used for a variety of purposes, such as sentiment analysis, toxic language detection, and mental health language analysis. The data in the corpus may be useful for researchers, mental health professionals, and others interested in understanding the language and sentiment surrounding mental health issues.\n",
    "</blockquote>\n",
    "</div>\n",
    "\n",
    "<hr>\n",
    "\n",
    "<div class=\"alert alert-block alert-info\">\n",
    "    <h2>Columns</h2>\n",
    "    <p><strong>text:</strong> The comments.</p>\n",
    "    <p><strong>label:</strong> 1 means considered as a comment which is poisonous with mental health issues, and 0 means not considered.</p>\n",
    "</div>"
   ]
  },
  {
   "cell_type": "markdown",
   "id": "a4a33a30",
   "metadata": {},
   "source": [
    "## Importing Libraries and Dataset"
   ]
  },
  {
   "cell_type": "code",
   "execution_count": 1,
   "id": "36532bb9",
   "metadata": {},
   "outputs": [],
   "source": [
    "import numpy as np\n",
    "import pandas as pd\n",
    "import seaborn as sns\n",
    "sns.set_style('whitegrid')\n",
    "import matplotlib.pyplot as plt\n",
    "%matplotlib inline\n",
    "\n",
    "import warnings\n",
    "warnings.filterwarnings('ignore')"
   ]
  },
  {
   "cell_type": "code",
   "execution_count": 2,
   "id": "3852627b",
   "metadata": {},
   "outputs": [],
   "source": [
    "import re\n",
    "import nltk\n",
    "from nltk.corpus import stopwords\n",
    "from nltk.stem.porter import PorterStemmer\n",
    "\n",
    "from sklearn.feature_extraction.text import CountVectorizer"
   ]
  },
  {
   "cell_type": "code",
   "execution_count": 3,
   "id": "8dfa7062",
   "metadata": {},
   "outputs": [],
   "source": [
    "from sklearn.model_selection import train_test_split"
   ]
  },
  {
   "cell_type": "code",
   "execution_count": 4,
   "id": "5f5f82b7",
   "metadata": {},
   "outputs": [],
   "source": [
    "from sklearn.ensemble import RandomForestClassifier\n",
    "from sklearn.tree import DecisionTreeClassifier\n",
    "from sklearn.neighbors import KNeighborsClassifier\n",
    "from sklearn.naive_bayes import GaussianNB\n",
    "from sklearn.neural_network import MLPClassifier\n",
    "from xgboost import XGBClassifier\n",
    "from lightgbm import LGBMClassifier"
   ]
  },
  {
   "cell_type": "code",
   "execution_count": 5,
   "id": "2b31f0ab",
   "metadata": {},
   "outputs": [],
   "source": [
    "from sklearn.model_selection import GridSearchCV\n",
    "from sklearn.metrics import accuracy_score,precision_score,recall_score,accuracy_score,confusion_matrix"
   ]
  },
  {
   "cell_type": "code",
   "execution_count": 6,
   "id": "32038c15",
   "metadata": {},
   "outputs": [],
   "source": [
    "df = pd.read_csv('mental_health.csv')"
   ]
  },
  {
   "cell_type": "markdown",
   "id": "5698e486",
   "metadata": {},
   "source": [
    "## EDA"
   ]
  },
  {
   "cell_type": "code",
   "execution_count": 7,
   "id": "ac782045",
   "metadata": {},
   "outputs": [
    {
     "data": {
      "text/plain": [
       "text     0\n",
       "label    0\n",
       "dtype: int64"
      ]
     },
     "execution_count": 7,
     "metadata": {},
     "output_type": "execute_result"
    }
   ],
   "source": [
    "df.isnull().sum()"
   ]
  },
  {
   "cell_type": "code",
   "execution_count": 8,
   "id": "749a5531",
   "metadata": {},
   "outputs": [
    {
     "data": {
      "text/plain": [
       "array([0, 1], dtype=int64)"
      ]
     },
     "execution_count": 8,
     "metadata": {},
     "output_type": "execute_result"
    }
   ],
   "source": [
    "df.label.unique()"
   ]
  },
  {
   "cell_type": "code",
   "execution_count": 9,
   "id": "65b38e9f",
   "metadata": {},
   "outputs": [
    {
     "data": {
      "text/html": [
       "<div>\n",
       "<style scoped>\n",
       "    .dataframe tbody tr th:only-of-type {\n",
       "        vertical-align: middle;\n",
       "    }\n",
       "\n",
       "    .dataframe tbody tr th {\n",
       "        vertical-align: top;\n",
       "    }\n",
       "\n",
       "    .dataframe thead th {\n",
       "        text-align: right;\n",
       "    }\n",
       "</style>\n",
       "<table border=\"1\" class=\"dataframe\">\n",
       "  <thead>\n",
       "    <tr style=\"text-align: right;\">\n",
       "      <th></th>\n",
       "      <th>text</th>\n",
       "      <th>label</th>\n",
       "    </tr>\n",
       "  </thead>\n",
       "  <tbody>\n",
       "    <tr>\n",
       "      <th>0</th>\n",
       "      <td>dear american teens question dutch person hear...</td>\n",
       "      <td>0</td>\n",
       "    </tr>\n",
       "    <tr>\n",
       "      <th>1</th>\n",
       "      <td>nothing look forward lifei dont many reasons k...</td>\n",
       "      <td>1</td>\n",
       "    </tr>\n",
       "    <tr>\n",
       "      <th>2</th>\n",
       "      <td>music recommendations im looking expand playli...</td>\n",
       "      <td>0</td>\n",
       "    </tr>\n",
       "    <tr>\n",
       "      <th>3</th>\n",
       "      <td>im done trying feel betterthe reason im still ...</td>\n",
       "      <td>1</td>\n",
       "    </tr>\n",
       "    <tr>\n",
       "      <th>4</th>\n",
       "      <td>worried  year old girl subject domestic physic...</td>\n",
       "      <td>1</td>\n",
       "    </tr>\n",
       "  </tbody>\n",
       "</table>\n",
       "</div>"
      ],
      "text/plain": [
       "                                                text  label\n",
       "0  dear american teens question dutch person hear...      0\n",
       "1  nothing look forward lifei dont many reasons k...      1\n",
       "2  music recommendations im looking expand playli...      0\n",
       "3  im done trying feel betterthe reason im still ...      1\n",
       "4  worried  year old girl subject domestic physic...      1"
      ]
     },
     "execution_count": 9,
     "metadata": {},
     "output_type": "execute_result"
    }
   ],
   "source": [
    "df.head()"
   ]
  },
  {
   "cell_type": "code",
   "execution_count": 10,
   "id": "989df699",
   "metadata": {},
   "outputs": [],
   "source": [
    "df['text_len'] = df['text'].apply(len)"
   ]
  },
  {
   "cell_type": "code",
   "execution_count": 11,
   "id": "dbacdf98",
   "metadata": {},
   "outputs": [
    {
     "data": {
      "text/html": [
       "<div>\n",
       "<style scoped>\n",
       "    .dataframe tbody tr th:only-of-type {\n",
       "        vertical-align: middle;\n",
       "    }\n",
       "\n",
       "    .dataframe tbody tr th {\n",
       "        vertical-align: top;\n",
       "    }\n",
       "\n",
       "    .dataframe thead th {\n",
       "        text-align: right;\n",
       "    }\n",
       "</style>\n",
       "<table border=\"1\" class=\"dataframe\">\n",
       "  <thead>\n",
       "    <tr style=\"text-align: right;\">\n",
       "      <th></th>\n",
       "      <th>count</th>\n",
       "      <th>mean</th>\n",
       "      <th>std</th>\n",
       "      <th>min</th>\n",
       "      <th>25%</th>\n",
       "      <th>50%</th>\n",
       "      <th>75%</th>\n",
       "      <th>max</th>\n",
       "    </tr>\n",
       "  </thead>\n",
       "  <tbody>\n",
       "    <tr>\n",
       "      <th>label</th>\n",
       "      <td>27977.0</td>\n",
       "      <td>0.494621</td>\n",
       "      <td>0.499980</td>\n",
       "      <td>0.0</td>\n",
       "      <td>0.0</td>\n",
       "      <td>0.0</td>\n",
       "      <td>1.0</td>\n",
       "      <td>1.0</td>\n",
       "    </tr>\n",
       "    <tr>\n",
       "      <th>text_len</th>\n",
       "      <td>27977.0</td>\n",
       "      <td>464.576259</td>\n",
       "      <td>699.067114</td>\n",
       "      <td>2.0</td>\n",
       "      <td>99.0</td>\n",
       "      <td>237.0</td>\n",
       "      <td>559.0</td>\n",
       "      <td>25289.0</td>\n",
       "    </tr>\n",
       "  </tbody>\n",
       "</table>\n",
       "</div>"
      ],
      "text/plain": [
       "            count        mean         std  min   25%    50%    75%      max\n",
       "label     27977.0    0.494621    0.499980  0.0   0.0    0.0    1.0      1.0\n",
       "text_len  27977.0  464.576259  699.067114  2.0  99.0  237.0  559.0  25289.0"
      ]
     },
     "execution_count": 11,
     "metadata": {},
     "output_type": "execute_result"
    }
   ],
   "source": [
    "df.describe().T"
   ]
  },
  {
   "cell_type": "code",
   "execution_count": 12,
   "id": "e8f1fbba",
   "metadata": {},
   "outputs": [
    {
     "data": {
      "image/png": "[encoded data removed]",
      "text/plain": [
       "<Figure size 1500x500 with 2 Axes>"
      ]
     },
     "metadata": {},
     "output_type": "display_data"
    }
   ],
   "source": [
    "plt.figure(figsize = (15,5))\n",
    "\n",
    "plt.subplot(1,2,1)\n",
    "colors = sns.color_palette('pastel')[0:2]\n",
    "plt.pie(df['label'].value_counts(),labels=['Healthy','Not Healthy'],colors = colors,autopct = '%.2f%%')\n",
    "\n",
    "plt.subplot(1,2,2)\n",
    "sns.boxenplot(x = 'label',y = 'text_len',data = df,palette='coolwarm')\n",
    "plt.xticks(ticks=[0,1],labels=['Healthy','Not Healthy'])\n",
    "plt.xlabel('Label',size = 12)\n",
    "plt.ylabel('Text Lenght',size = 12,labelpad=10)\n",
    "\n",
    "plt.subplots_adjust(left = 0.1,right = 0.9)\n",
    "plt.show()"
   ]
  },
  {
   "cell_type": "markdown",
   "id": "d047bae9",
   "metadata": {},
   "source": [
    "## Download Stopwords"
   ]
  },
  {
   "cell_type": "code",
   "execution_count": 13,
   "id": "a3259b56",
   "metadata": {},
   "outputs": [
    {
     "name": "stderr",
     "output_type": "stream",
     "text": [
      "[nltk_data] Downloading package stopwords to\n",
      "[nltk_data]     C:\\Users\\samet\\AppData\\Roaming\\nltk_data...\n",
      "[nltk_data]   Package stopwords is already up-to-date!\n"
     ]
    },
    {
     "data": {
      "text/plain": [
       "True"
      ]
     },
     "execution_count": 13,
     "metadata": {},
     "output_type": "execute_result"
    }
   ],
   "source": [
    "nltk.download('stopwords')"
   ]
  },
  {
   "cell_type": "markdown",
   "id": "b5b92068",
   "metadata": {},
   "source": [
    "## Create Stopwords and PorterStemmer"
   ]
  },
  {
   "cell_type": "code",
   "execution_count": 14,
   "id": "77e30616",
   "metadata": {},
   "outputs": [],
   "source": [
    "ps = PorterStemmer()\n",
    "all_stopwords = stopwords.words('english')\n",
    "all_stopwords.remove('not')"
   ]
  },
  {
   "cell_type": "markdown",
   "id": "fc0c571e",
   "metadata": {},
   "source": [
    "## Cleaning the Texts"
   ]
  },
  {
   "cell_type": "code",
   "execution_count": 15,
   "id": "f8ac262b",
   "metadata": {},
   "outputs": [],
   "source": [
    "corpus = []\n",
    "for i in range(0,len(df)):\n",
    "    text = re.sub('[^a-zA-Z]',' ',df['text'][i])\n",
    "    text = text.lower().split(' ')\n",
    "    text = [ps.stem(word) for word in text if not word in set(all_stopwords)]\n",
    "    text = ' '.join(text)\n",
    "    corpus.append(text)"
   ]
  },
  {
   "cell_type": "markdown",
   "id": "5bf7b4cc",
   "metadata": {},
   "source": [
    "## Creating Bag of Words Model"
   ]
  },
  {
   "cell_type": "code",
   "execution_count": 16,
   "id": "8c195482",
   "metadata": {},
   "outputs": [],
   "source": [
    "cv = CountVectorizer(max_features=1500)\n",
    "\n",
    "X = cv.fit_transform(corpus).toarray()\n",
    "y = df['label']"
   ]
  },
  {
   "cell_type": "markdown",
   "id": "6081dd2a",
   "metadata": {},
   "source": [
    "## Split the Data into Train and Test Sets"
   ]
  },
  {
   "cell_type": "code",
   "execution_count": 17,
   "id": "308185e8",
   "metadata": {},
   "outputs": [],
   "source": [
    "X_train,X_test,y_train,y_test = train_test_split(X,y,test_size=0.3,random_state=0)"
   ]
  },
  {
   "cell_type": "markdown",
   "id": "e135d795",
   "metadata": {},
   "source": [
    "## Machine Learning Models\n",
    "\n",
    "1. Random Forest\n",
    "2. Decision Tree\n",
    "3. K Nearest Neighbors\n",
    "4. Naive Bayes\n",
    "5. Multilayer Perceptron\n",
    "6. XGBoost \n",
    "7. LightGBM\n"
   ]
  },
  {
   "cell_type": "markdown",
   "id": "90882831",
   "metadata": {},
   "source": [
    "### Grid Search"
   ]
  },
  {
   "cell_type": "code",
   "execution_count": 18,
   "id": "411e93b5",
   "metadata": {},
   "outputs": [],
   "source": [
    "def grid_search(estimator,param_grid,modelName):\n",
    "    \n",
    "    gridSearch = GridSearchCV(estimator=estimator,param_grid=param_grid,cv = 5,n_jobs=-1)\n",
    "    gridSearch.fit(X_train,y_train)\n",
    "    \n",
    "    print(modelName.center(50,'_'),end='\\n\\n')\n",
    "    print(gridSearch.best_params_)"
   ]
  },
  {
   "cell_type": "markdown",
   "id": "b8acc29e",
   "metadata": {},
   "source": [
    "### Random Forest"
   ]
  },
  {
   "cell_type": "code",
   "execution_count": 19,
   "id": "e5106bb4",
   "metadata": {},
   "outputs": [],
   "source": [
    "rf_model = RandomForestClassifier(n_estimators=100,criterion='entropy').fit(X_train,y_train)\n",
    "rf_pred = rf_model.predict(X_test)"
   ]
  },
  {
   "cell_type": "markdown",
   "id": "84205812",
   "metadata": {},
   "source": [
    "### Decision Tree"
   ]
  },
  {
   "cell_type": "code",
   "execution_count": 20,
   "id": "e9dc106e",
   "metadata": {},
   "outputs": [
    {
     "name": "stdout",
     "output_type": "stream",
     "text": [
      "__________________Decision Tree___________________\n",
      "\n",
      "{'criterion': 'entropy', 'max_depth': None}\n"
     ]
    }
   ],
   "source": [
    "dt_model = DecisionTreeClassifier().fit(X_train,y_train)\n",
    "dt_params = {'max_depth':[None,3,4,5],'criterion':['entropy','gini']}\n",
    "grid_search(dt_model,dt_params,'Decision Tree')"
   ]
  },
  {
   "cell_type": "code",
   "execution_count": 21,
   "id": "719c6b63",
   "metadata": {},
   "outputs": [],
   "source": [
    "dt_tuned_model = DecisionTreeClassifier(criterion='entropy',max_depth = None).fit(X_train,y_train)\n",
    "dt_pred = dt_tuned_model.predict(X_test)"
   ]
  },
  {
   "cell_type": "markdown",
   "id": "3669badc",
   "metadata": {},
   "source": [
    "### KNN"
   ]
  },
  {
   "cell_type": "code",
   "execution_count": 22,
   "id": "6702a70a",
   "metadata": {},
   "outputs": [
    {
     "name": "stdout",
     "output_type": "stream",
     "text": [
      "_______________________KNN________________________\n",
      "\n",
      "{'n_neighbors': 5}\n"
     ]
    }
   ],
   "source": [
    "knn_model = KNeighborsClassifier().fit(X_train,y_train)\n",
    "knn_params = {'n_neighbors':np.arange(5,50,10)}\n",
    "grid_search(knn_model,knn_params,'KNN')"
   ]
  },
  {
   "cell_type": "code",
   "execution_count": 23,
   "id": "a3860e90",
   "metadata": {},
   "outputs": [],
   "source": [
    "knn_tuned_model = KNeighborsClassifier(n_neighbors=5).fit(X_train,y_train)\n",
    "knn_pred = knn_tuned_model.predict(X_test) "
   ]
  },
  {
   "cell_type": "markdown",
   "id": "9ede441f",
   "metadata": {},
   "source": [
    "### Naive Bayes"
   ]
  },
  {
   "cell_type": "code",
   "execution_count": 24,
   "id": "6b1f66dc",
   "metadata": {},
   "outputs": [],
   "source": [
    "nb_model = GaussianNB().fit(X_train,y_train)\n",
    "nb_pred = nb_model.predict(X_test)"
   ]
  },
  {
   "cell_type": "markdown",
   "id": "8c6f4abf",
   "metadata": {},
   "source": [
    "### MLP"
   ]
  },
  {
   "cell_type": "code",
   "execution_count": 25,
   "id": "32bba344",
   "metadata": {},
   "outputs": [],
   "source": [
    "mlp_model = MLPClassifier().fit(X_train,y_train)\n",
    "mlp_pred = mlp_model.predict(X_test)"
   ]
  },
  {
   "cell_type": "markdown",
   "id": "236c81ca",
   "metadata": {},
   "source": [
    "### XGB"
   ]
  },
  {
   "cell_type": "code",
   "execution_count": 26,
   "id": "629a4174",
   "metadata": {},
   "outputs": [],
   "source": [
    "xgb_model = XGBClassifier().fit(X_train,y_train)\n",
    "xgb_pred = xgb_model.predict(X_test)"
   ]
  },
  {
   "cell_type": "markdown",
   "id": "8df09606",
   "metadata": {},
   "source": [
    "### LGBM"
   ]
  },
  {
   "cell_type": "code",
   "execution_count": 27,
   "id": "d4b56b8c",
   "metadata": {},
   "outputs": [],
   "source": [
    "lgbm_model = LGBMClassifier().fit(X_train,y_train)\n",
    "lgbm_pred = lgbm_model.predict(X_test)"
   ]
  },
  {
   "cell_type": "markdown",
   "id": "22139455",
   "metadata": {},
   "source": [
    "## Calculate Scores"
   ]
  },
  {
   "cell_type": "code",
   "execution_count": 28,
   "id": "3d20adc5",
   "metadata": {},
   "outputs": [],
   "source": [
    "def calculate_scores(y_pred,modelName):    \n",
    "    global df_result,index\n",
    "    \n",
    "    accuracy = round(accuracy_score(y_test,y_pred),2)\n",
    "    precision = round(precision_score(y_test,y_pred),2)\n",
    "    recall = round(recall_score(y_test,y_pred),2)\n",
    "    tn, fp, fn, tp = confusion_matrix(y_test,y_pred).ravel()\n",
    "\n",
    "    scores = {\n",
    "        'model':modelName,\n",
    "        'accuracy': accuracy,\n",
    "        'precision': precision,\n",
    "        'recall':recall,\n",
    "        'tp':tp,\n",
    "        'tn':tn,\n",
    "        'fp':fp,\n",
    "        'fn':fn\n",
    "    }\n",
    "    \n",
    "    new_df = pd.DataFrame(data = scores,index = [index])\n",
    "    df_result = pd.concat([df_result,new_df])\n",
    "    index += 1  "
   ]
  },
  {
   "cell_type": "code",
   "execution_count": 29,
   "id": "76c3ceab",
   "metadata": {},
   "outputs": [
    {
     "data": {
      "text/html": [
       "<div>\n",
       "<style scoped>\n",
       "    .dataframe tbody tr th:only-of-type {\n",
       "        vertical-align: middle;\n",
       "    }\n",
       "\n",
       "    .dataframe tbody tr th {\n",
       "        vertical-align: top;\n",
       "    }\n",
       "\n",
       "    .dataframe thead th {\n",
       "        text-align: right;\n",
       "    }\n",
       "</style>\n",
       "<table border=\"1\" class=\"dataframe\">\n",
       "  <thead>\n",
       "    <tr style=\"text-align: right;\">\n",
       "      <th></th>\n",
       "      <th>model</th>\n",
       "      <th>accuracy</th>\n",
       "      <th>precision</th>\n",
       "      <th>recall</th>\n",
       "      <th>tp</th>\n",
       "      <th>tn</th>\n",
       "      <th>fp</th>\n",
       "      <th>fn</th>\n",
       "    </tr>\n",
       "  </thead>\n",
       "  <tbody>\n",
       "    <tr>\n",
       "      <th>0</th>\n",
       "      <td>LGBM</td>\n",
       "      <td>0.91</td>\n",
       "      <td>0.92</td>\n",
       "      <td>0.89</td>\n",
       "      <td>3639</td>\n",
       "      <td>3984</td>\n",
       "      <td>327</td>\n",
       "      <td>444</td>\n",
       "    </tr>\n",
       "    <tr>\n",
       "      <th>1</th>\n",
       "      <td>MLP</td>\n",
       "      <td>0.90</td>\n",
       "      <td>0.90</td>\n",
       "      <td>0.89</td>\n",
       "      <td>3628</td>\n",
       "      <td>3927</td>\n",
       "      <td>384</td>\n",
       "      <td>455</td>\n",
       "    </tr>\n",
       "    <tr>\n",
       "      <th>2</th>\n",
       "      <td>XGB</td>\n",
       "      <td>0.90</td>\n",
       "      <td>0.92</td>\n",
       "      <td>0.88</td>\n",
       "      <td>3576</td>\n",
       "      <td>4000</td>\n",
       "      <td>311</td>\n",
       "      <td>507</td>\n",
       "    </tr>\n",
       "    <tr>\n",
       "      <th>3</th>\n",
       "      <td>Random Forest</td>\n",
       "      <td>0.88</td>\n",
       "      <td>0.87</td>\n",
       "      <td>0.89</td>\n",
       "      <td>3654</td>\n",
       "      <td>3758</td>\n",
       "      <td>553</td>\n",
       "      <td>429</td>\n",
       "    </tr>\n",
       "    <tr>\n",
       "      <th>4</th>\n",
       "      <td>Decision Tree</td>\n",
       "      <td>0.82</td>\n",
       "      <td>0.82</td>\n",
       "      <td>0.83</td>\n",
       "      <td>3376</td>\n",
       "      <td>3549</td>\n",
       "      <td>762</td>\n",
       "      <td>707</td>\n",
       "    </tr>\n",
       "    <tr>\n",
       "      <th>5</th>\n",
       "      <td>Naive Bayes</td>\n",
       "      <td>0.81</td>\n",
       "      <td>0.89</td>\n",
       "      <td>0.70</td>\n",
       "      <td>2842</td>\n",
       "      <td>3950</td>\n",
       "      <td>361</td>\n",
       "      <td>1241</td>\n",
       "    </tr>\n",
       "    <tr>\n",
       "      <th>6</th>\n",
       "      <td>KNN</td>\n",
       "      <td>0.79</td>\n",
       "      <td>0.88</td>\n",
       "      <td>0.65</td>\n",
       "      <td>2642</td>\n",
       "      <td>3965</td>\n",
       "      <td>346</td>\n",
       "      <td>1441</td>\n",
       "    </tr>\n",
       "  </tbody>\n",
       "</table>\n",
       "</div>"
      ],
      "text/plain": [
       "           model  accuracy  precision  recall    tp    tn   fp    fn\n",
       "0           LGBM      0.91       0.92    0.89  3639  3984  327   444\n",
       "1            MLP      0.90       0.90    0.89  3628  3927  384   455\n",
       "2            XGB      0.90       0.92    0.88  3576  4000  311   507\n",
       "3  Random Forest      0.88       0.87    0.89  3654  3758  553   429\n",
       "4  Decision Tree      0.82       0.82    0.83  3376  3549  762   707\n",
       "5    Naive Bayes      0.81       0.89    0.70  2842  3950  361  1241\n",
       "6            KNN      0.79       0.88    0.65  2642  3965  346  1441"
      ]
     },
     "execution_count": 29,
     "metadata": {},
     "output_type": "execute_result"
    }
   ],
   "source": [
    "predictions = {\n",
    "    'Random Forest':rf_pred,\n",
    "    'Decision Tree':dt_pred,\n",
    "    'KNN':knn_pred,\n",
    "    'Naive Bayes':nb_pred,\n",
    "    'MLP':mlp_pred,\n",
    "    'XGB':xgb_pred,\n",
    "    'LGBM':lgbm_pred\n",
    "}\n",
    "\n",
    "df_result = pd.DataFrame()\n",
    "index = 1\n",
    "\n",
    "for p in predictions:\n",
    "    calculate_scores(predictions[p],p)\n",
    "\n",
    "df_result = df_result.sort_values(by = 'accuracy',ascending=False)\n",
    "df_result = df_result.reset_index().drop('index',axis = 1)\n",
    "df_result"
   ]
  },
  {
   "cell_type": "code",
   "execution_count": 30,
   "id": "dc655cdd",
   "metadata": {},
   "outputs": [
    {
     "data": {
      "image/png": "[encoded data removed]",
      "text/plain": [
       "<Figure size 800x400 with 1 Axes>"
      ]
     },
     "metadata": {},
     "output_type": "display_data"
    }
   ],
   "source": [
    "plt.figure(figsize = (8,4))\n",
    "plt.plot(df_result['accuracy'],'g-*')\n",
    "plt.xticks(ticks=np.arange(0,7),labels=df_result['model'],size = 12,rotation = 'vertical')\n",
    "plt.yticks(np.arange(0.78,0.93,0.02),size = 12)\n",
    "plt.ylabel('Accuracy',size = 14,labelpad=12)\n",
    "plt.show()"
   ]
  }
 ],
 "metadata": {
  "kernelspec": {
   "display_name": "Python 3 (ipykernel)",
   "language": "python",
   "name": "python3"
  },
  "language_info": {
   "codemirror_mode": {
    "name": "ipython",
    "version": 3
   },
   "file_extension": ".py",
   "mimetype": "text/x-python",
   "name": "python",
   "nbconvert_exporter": "python",
   "pygments_lexer": "ipython3",
   "version": "3.9.12"
  }
 },
 "nbformat": 4,
 "nbformat_minor": 5
}
